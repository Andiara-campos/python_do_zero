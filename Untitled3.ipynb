{
  "nbformat": 4,
  "nbformat_minor": 0,
  "metadata": {
    "colab": {
      "name": "Untitled3.ipynb",
      "provenance": [],
      "authorship_tag": "ABX9TyMj4GG1nrmCViJ3So2ajzJR",
      "include_colab_link": true
    },
    "kernelspec": {
      "name": "python3",
      "display_name": "Python 3"
    }
  },
  "cells": [
    {
      "cell_type": "markdown",
      "metadata": {
        "id": "view-in-github",
        "colab_type": "text"
      },
      "source": [
        "<a href=\"https://colab.research.google.com/github/Andiara-campos/python_do_zero/blob/main/Untitled3.ipynb\" target=\"_parent\"><img src=\"https://colab.research.google.com/assets/colab-badge.svg\" alt=\"Open In Colab\"/></a>"
      ]
    },
    {
      "cell_type": "code",
      "metadata": {
        "id": "rgjemhIjGhmA"
      },
      "source": [
        ""
      ],
      "execution_count": null,
      "outputs": []
    },
    {
      "cell_type": "markdown",
      "metadata": {
        "id": "3A_uuvNzMDfJ"
      },
      "source": [
        "# SEMANA ZERO AO PYTHON - DICAS KENZIE"
      ]
    },
    {
      "cell_type": "markdown",
      "metadata": {
        "id": "f2wxUKu2MXZ_"
      },
      "source": [
        "# VARIÁVEIS"
      ]
    },
    {
      "cell_type": "code",
      "metadata": {
        "id": "03i3qNTUQhrm"
      },
      "source": [
        ""
      ],
      "execution_count": null,
      "outputs": []
    },
    {
      "cell_type": "code",
      "metadata": {
        "colab": {
          "base_uri": "https://localhost:8080/"
        },
        "id": "X1yx1J1MNYpk",
        "outputId": "f90286e9-cab0-4582-fe69-99f6b5c2d2dc"
      },
      "source": [
        "variavel = 2\r\n",
        "print(variavel)\r\n",
        "type(variavel)\r\n"
      ],
      "execution_count": null,
      "outputs": [
        {
          "output_type": "stream",
          "text": [
            "2\n"
          ],
          "name": "stdout"
        },
        {
          "output_type": "execute_result",
          "data": {
            "text/plain": [
              "int"
            ]
          },
          "metadata": {
            "tags": []
          },
          "execution_count": 4
        }
      ]
    },
    {
      "cell_type": "markdown",
      "metadata": {
        "id": "VRO0NUKuOTA1"
      },
      "source": [
        "#VARIAVEL COM VALOR REAL"
      ]
    },
    {
      "cell_type": "code",
      "metadata": {
        "colab": {
          "base_uri": "https://localhost:8080/"
        },
        "id": "GWFTKMSmOWvO",
        "outputId": "02b39be0-077e-4589-c1de-482581275931"
      },
      "source": [
        "preço_do_produto = 2.5\r\n",
        "print(preço_do_produto)\r\n",
        "type(preço_do_produto)"
      ],
      "execution_count": null,
      "outputs": [
        {
          "output_type": "stream",
          "text": [
            "2.5\n"
          ],
          "name": "stdout"
        },
        {
          "output_type": "execute_result",
          "data": {
            "text/plain": [
              "float"
            ]
          },
          "metadata": {
            "tags": []
          },
          "execution_count": 6
        }
      ]
    },
    {
      "cell_type": "markdown",
      "metadata": {
        "id": "7JCpG8lkOilM"
      },
      "source": [
        "#VARIAVEL STRING\r\n"
      ]
    },
    {
      "cell_type": "code",
      "metadata": {
        "colab": {
          "base_uri": "https://localhost:8080/"
        },
        "id": "Q7nvan-kPJFY",
        "outputId": "2ccc5aa9-eebb-4eed-eeea-f275f161c83a"
      },
      "source": [
        "variavel = \"texto\"\r\n",
        "print(variavel)"
      ],
      "execution_count": null,
      "outputs": [
        {
          "output_type": "stream",
          "text": [
            "texto\n"
          ],
          "name": "stdout"
        }
      ]
    },
    {
      "cell_type": "markdown",
      "metadata": {
        "id": "gZQ74Qe3Pmnh"
      },
      "source": [
        "#VARIAVEL BOOLEAN\r\n"
      ]
    },
    {
      "cell_type": "code",
      "metadata": {
        "colab": {
          "base_uri": "https://localhost:8080/"
        },
        "id": "tMqyhDmOPwY1",
        "outputId": "2aa59181-8ff6-4050-b219-a919bcc0949b"
      },
      "source": [
        "verdadeiro = True\r\n",
        "falso = False\r\n",
        "print(verdadeiro)\r\n",
        "print(falso)"
      ],
      "execution_count": null,
      "outputs": [
        {
          "output_type": "stream",
          "text": [
            "True\n",
            "False\n"
          ],
          "name": "stdout"
        }
      ]
    },
    {
      "cell_type": "markdown",
      "metadata": {
        "id": "8oj53JjbQLnG"
      },
      "source": [
        ""
      ]
    },
    {
      "cell_type": "markdown",
      "metadata": {
        "id": "_VNf0C9rQWt_"
      },
      "source": [
        "#LISTAS"
      ]
    },
    {
      "cell_type": "code",
      "metadata": {
        "colab": {
          "base_uri": "https://localhost:8080/"
        },
        "id": "XF1d5hjgQadC",
        "outputId": "f72b1d69-3f0e-445a-ad73-20432235d464"
      },
      "source": [
        "lista = [1,2,3,4,5,6,7,8]\r\n",
        "print(lista)\r\n"
      ],
      "execution_count": null,
      "outputs": [
        {
          "output_type": "stream",
          "text": [
            "[1, 2, 3, 4, 5, 6, 7, 8]\n"
          ],
          "name": "stdout"
        }
      ]
    },
    {
      "cell_type": "code",
      "metadata": {
        "colab": {
          "base_uri": "https://localhost:8080/"
        },
        "id": "9r6IaYAMQ8HK",
        "outputId": "2edc74ed-c1d5-4ad7-f255-d7f09627a69f"
      },
      "source": [
        "lista2 = [True, False, True, True]\r\n",
        "print(lista2)"
      ],
      "execution_count": null,
      "outputs": [
        {
          "output_type": "stream",
          "text": [
            "[True, False, True, True]\n"
          ],
          "name": "stdout"
        }
      ]
    },
    {
      "cell_type": "code",
      "metadata": {
        "colab": {
          "base_uri": "https://localhost:8080/"
        },
        "id": "P1Lmjs3pRMuq",
        "outputId": "418dcc91-0df3-4d19-838a-569d04058a7b"
      },
      "source": [
        "lista3 = [1, 'Luan', 2, 'Quilherme', True, 'Daniel']\r\n",
        "print(lista3)"
      ],
      "execution_count": null,
      "outputs": [
        {
          "output_type": "stream",
          "text": [
            "[1, 'Luan', 2, 'Quilherme', True, 'Daniel']\n"
          ],
          "name": "stdout"
        }
      ]
    },
    {
      "cell_type": "markdown",
      "metadata": {
        "id": "2H5PEeQXRron"
      },
      "source": [
        "#CONDIÇÕES"
      ]
    },
    {
      "cell_type": "code",
      "metadata": {
        "colab": {
          "base_uri": "https://localhost:8080/"
        },
        "id": "ORYhXUA2RunP",
        "outputId": "c109cba1-362d-4067-90ff-9ac97e024d84"
      },
      "source": [
        "if 3 > 2:\r\n",
        "  print('é maior')\r\n",
        "  print('foi')"
      ],
      "execution_count": null,
      "outputs": [
        {
          "output_type": "stream",
          "text": [
            "é maior\n",
            "foi\n"
          ],
          "name": "stdout"
        }
      ]
    },
    {
      "cell_type": "code",
      "metadata": {
        "colab": {
          "base_uri": "https://localhost:8080/"
        },
        "id": "4RGNxp7vSJs0",
        "outputId": "5232b8c5-e009-4891-ea85-14d6c473d99f"
      },
      "source": [
        "if 2 > 3:\r\n",
        "  print('é maior')\r\n",
        "  print(\"foi\")\r\n",
        "else:\r\n",
        "  print(\"não é maoior\")\r\n",
        "  print(\"foi\")"
      ],
      "execution_count": null,
      "outputs": [
        {
          "output_type": "stream",
          "text": [
            "não é maoior\n",
            "foi\n"
          ],
          "name": "stdout"
        }
      ]
    },
    {
      "cell_type": "markdown",
      "metadata": {
        "id": "F-PP3OERTHYC"
      },
      "source": [
        "#USANDO VARIAVEIS"
      ]
    },
    {
      "cell_type": "code",
      "metadata": {
        "colab": {
          "base_uri": "https://localhost:8080/"
        },
        "id": "9Jzo8irUTKzS",
        "outputId": "ad346994-1ea8-48de-9764-8f8f05371167"
      },
      "source": [
        "variavel_1 = 3\r\n",
        "variavel_2 = 4\r\n",
        "if variavel_1 < variavel_2:\r\n",
        "  print('O valor na variavel 1 é menor')\r\n"
      ],
      "execution_count": null,
      "outputs": [
        {
          "output_type": "stream",
          "text": [
            "O valor na variavel 1 é menor\n"
          ],
          "name": "stdout"
        }
      ]
    }
  ]
}