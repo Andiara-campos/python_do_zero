{
  "nbformat": 4,
  "nbformat_minor": 0,
  "metadata": {
    "colab": {
      "name": "listas e strings.ipynb",
      "provenance": [],
      "authorship_tag": "ABX9TyNlhzrrz7Zpmy2n1nhs2rED",
      "include_colab_link": true
    },
    "kernelspec": {
      "name": "python3",
      "display_name": "Python 3"
    }
  },
  "cells": [
    {
      "cell_type": "markdown",
      "metadata": {
        "id": "view-in-github",
        "colab_type": "text"
      },
      "source": [
        "<a href=\"https://colab.research.google.com/github/Andiara-campos/python_do_zero/blob/main/listas_e_strings.ipynb\" target=\"_parent\"><img src=\"https://colab.research.google.com/assets/colab-badge.svg\" alt=\"Open In Colab\"/></a>"
      ]
    },
    {
      "cell_type": "markdown",
      "metadata": {
        "id": "kjydwLWjfaX9"
      },
      "source": [
        ""
      ]
    },
    {
      "cell_type": "markdown",
      "metadata": {
        "id": "or1wncuuffQd"
      },
      "source": [
        "#Listas"
      ]
    },
    {
      "cell_type": "code",
      "metadata": {
        "colab": {
          "base_uri": "https://localhost:8080/"
        },
        "id": "uy90OjG2fhNo",
        "outputId": "6854bdc9-b1cf-4b0c-d566-3551e5b660c6"
      },
      "source": [
        "lista1 = [10,20,30,40]\r\n",
        "type(lista1)"
      ],
      "execution_count": 2,
      "outputs": [
        {
          "output_type": "execute_result",
          "data": {
            "text/plain": [
              "list"
            ]
          },
          "metadata": {
            "tags": []
          },
          "execution_count": 2
        }
      ]
    },
    {
      "cell_type": "markdown",
      "metadata": {
        "id": "2tC3Jhm4f6M2"
      },
      "source": [
        "Em programação a parimeira posição começa do número zero (0)"
      ]
    },
    {
      "cell_type": "code",
      "metadata": {
        "colab": {
          "base_uri": "https://localhost:8080/"
        },
        "id": "GRcJt6NAgE-X",
        "outputId": "af7923ae-db77-44bc-e87a-97bcf8dbdab6"
      },
      "source": [
        "lista1[0]"
      ],
      "execution_count": 3,
      "outputs": [
        {
          "output_type": "execute_result",
          "data": {
            "text/plain": [
              "10"
            ]
          },
          "metadata": {
            "tags": []
          },
          "execution_count": 3
        }
      ]
    },
    {
      "cell_type": "code",
      "metadata": {
        "colab": {
          "base_uri": "https://localhost:8080/"
        },
        "id": "s-z9z5AHgLD3",
        "outputId": "15810648-28f3-400b-ffb2-692fab8320c1"
      },
      "source": [
        "lista1[1]"
      ],
      "execution_count": 4,
      "outputs": [
        {
          "output_type": "execute_result",
          "data": {
            "text/plain": [
              "20"
            ]
          },
          "metadata": {
            "tags": []
          },
          "execution_count": 4
        }
      ]
    },
    {
      "cell_type": "code",
      "metadata": {
        "colab": {
          "base_uri": "https://localhost:8080/"
        },
        "id": "ri3CdMc8gP5W",
        "outputId": "45c9bee0-c868-4e52-933e-38a0007738e6"
      },
      "source": [
        "lista1[2]"
      ],
      "execution_count": 5,
      "outputs": [
        {
          "output_type": "execute_result",
          "data": {
            "text/plain": [
              "30"
            ]
          },
          "metadata": {
            "tags": []
          },
          "execution_count": 5
        }
      ]
    },
    {
      "cell_type": "markdown",
      "metadata": {
        "id": "-BR3TEdLgY7T"
      },
      "source": [
        ""
      ]
    },
    {
      "cell_type": "markdown",
      "metadata": {
        "id": "yuUawbMigbzJ"
      },
      "source": [
        "# USO DO FOR"
      ]
    },
    {
      "cell_type": "code",
      "metadata": {
        "colab": {
          "base_uri": "https://localhost:8080/"
        },
        "id": "wHGmup_sgfcn",
        "outputId": "677087cc-f3a9-4f33-ffca-06ba587ee5ad"
      },
      "source": [
        "for numero in lista1:\r\n",
        "  dobro = numero * 2\r\n",
        "  print(numero)\r\n",
        "  print(dobro)\r\n",
        "  print(\"----\")"
      ],
      "execution_count": 9,
      "outputs": [
        {
          "output_type": "stream",
          "text": [
            "10\n",
            "20\n",
            "----\n",
            "20\n",
            "40\n",
            "----\n",
            "30\n",
            "60\n",
            "----\n",
            "40\n",
            "80\n",
            "----\n"
          ],
          "name": "stdout"
        }
      ]
    },
    {
      "cell_type": "code",
      "metadata": {
        "colab": {
          "base_uri": "https://localhost:8080/"
        },
        "id": "DfjJMwvsiW1J",
        "outputId": "00a5a7c8-23fd-4cfb-983b-31a97f576761"
      },
      "source": [
        "zombies = ['z1', 'z2', 'z3', 'z4']\r\n",
        "for zombie in zombies:\r\n",
        "  print(\"Nome: \", zombie)"
      ],
      "execution_count": 11,
      "outputs": [
        {
          "output_type": "stream",
          "text": [
            "Nome:  z1\n",
            "Nome:  z2\n",
            "Nome:  z3\n",
            "Nome:  z4\n"
          ],
          "name": "stdout"
        }
      ]
    },
    {
      "cell_type": "code",
      "metadata": {
        "colab": {
          "base_uri": "https://localhost:8080/"
        },
        "id": "m9no4izOjDWN",
        "outputId": "d4f277eb-e33d-47fb-bdf4-d3823be53704"
      },
      "source": [
        "zombies = ['z1, z2, z3, z4']\r\n",
        "for zombie in zombies:\r\n",
        "  print(\"Nome: \", zombie)"
      ],
      "execution_count": 12,
      "outputs": [
        {
          "output_type": "stream",
          "text": [
            "Nome:  z1, z2, z3, z4\n"
          ],
          "name": "stdout"
        }
      ]
    },
    {
      "cell_type": "markdown",
      "metadata": {
        "id": "b33vifBVjZtO"
      },
      "source": [
        ""
      ]
    },
    {
      "cell_type": "markdown",
      "metadata": {
        "id": "OHviuQcHja8z"
      },
      "source": [
        "##Lista ordenada"
      ]
    },
    {
      "cell_type": "markdown",
      "metadata": {
        "id": "wqCJno-OkS84"
      },
      "source": [
        "### O \"in\" é obrigatório porque ele que vai indicar: para cada for onde está a variável."
      ]
    },
    {
      "cell_type": "code",
      "metadata": {
        "colab": {
          "base_uri": "https://localhost:8080/"
        },
        "id": "IGcWw1g_jeiu",
        "outputId": "2cf4a1c3-9e1d-4763-aff3-11bc6d892629"
      },
      "source": [
        "zombies = ['z2', 'z1', 'z4', 'z3']\r\n",
        "for zombie in zombies:\r\n",
        "  print(\"Nome: \", zombie)"
      ],
      "execution_count": 13,
      "outputs": [
        {
          "output_type": "stream",
          "text": [
            "Nome:  z2\n",
            "Nome:  z1\n",
            "Nome:  z4\n",
            "Nome:  z3\n"
          ],
          "name": "stdout"
        }
      ]
    },
    {
      "cell_type": "code",
      "metadata": {
        "colab": {
          "base_uri": "https://localhost:8080/"
        },
        "id": "yfJBrXpPj2cO",
        "outputId": "6e48025d-013f-4fed-93e3-5213f3964d41"
      },
      "source": [
        "print(zombies)\r\n",
        "zombies.sort()\r\n",
        "print(zombies)"
      ],
      "execution_count": 14,
      "outputs": [
        {
          "output_type": "stream",
          "text": [
            "['z2', 'z1', 'z4', 'z3']\n",
            "['z1', 'z2', 'z3', 'z4']\n"
          ],
          "name": "stdout"
        }
      ]
    },
    {
      "cell_type": "code",
      "metadata": {
        "colab": {
          "base_uri": "https://localhost:8080/"
        },
        "id": "bjsRtNgGngbj",
        "outputId": "4fa80580-dd4b-47db-b296-d43b9e9bd263"
      },
      "source": [
        "zombies[0:2]"
      ],
      "execution_count": 15,
      "outputs": [
        {
          "output_type": "execute_result",
          "data": {
            "text/plain": [
              "['z1', 'z2']"
            ]
          },
          "metadata": {
            "tags": []
          },
          "execution_count": 15
        }
      ]
    },
    {
      "cell_type": "code",
      "metadata": {
        "colab": {
          "base_uri": "https://localhost:8080/"
        },
        "id": "TWpSeaTMonJu",
        "outputId": "d09dcf45-4736-480b-dbf1-27cfbadf5178"
      },
      "source": [
        "nome = \"Andiara Campos\"\r\n",
        "print(nome [0:4])"
      ],
      "execution_count": 32,
      "outputs": [
        {
          "output_type": "stream",
          "text": [
            "Andi\n"
          ],
          "name": "stdout"
        }
      ]
    },
    {
      "cell_type": "code",
      "metadata": {
        "colab": {
          "base_uri": "https://localhost:8080/",
          "height": 35
        },
        "id": "lNHEgmpSqOiS",
        "outputId": "85117f00-a0d3-4a23-890a-70f733897232"
      },
      "source": [
        "nome.upper()"
      ],
      "execution_count": 33,
      "outputs": [
        {
          "output_type": "execute_result",
          "data": {
            "application/vnd.google.colaboratory.intrinsic+json": {
              "type": "string"
            },
            "text/plain": [
              "'ANDIARA CAMPOS'"
            ]
          },
          "metadata": {
            "tags": []
          },
          "execution_count": 33
        }
      ]
    },
    {
      "cell_type": "code",
      "metadata": {
        "colab": {
          "base_uri": "https://localhost:8080/",
          "height": 35
        },
        "id": "_kKOV2kWqWYz",
        "outputId": "3b42f4e7-ea69-431a-ada7-9224139a843c"
      },
      "source": [
        "nome.title()"
      ],
      "execution_count": 34,
      "outputs": [
        {
          "output_type": "execute_result",
          "data": {
            "application/vnd.google.colaboratory.intrinsic+json": {
              "type": "string"
            },
            "text/plain": [
              "'Andiara Campos'"
            ]
          },
          "metadata": {
            "tags": []
          },
          "execution_count": 34
        }
      ]
    },
    {
      "cell_type": "code",
      "metadata": {
        "colab": {
          "base_uri": "https://localhost:8080/"
        },
        "id": "_ZZRIXPqq-mE",
        "outputId": "5e2c47f8-77d9-4ec9-dc1b-678155e497e7"
      },
      "source": [
        "for letra in nome:\r\n",
        "  print('Letra: ', letra)"
      ],
      "execution_count": 36,
      "outputs": [
        {
          "output_type": "stream",
          "text": [
            "Letra:  A\n",
            "Letra:  n\n",
            "Letra:  d\n",
            "Letra:  i\n",
            "Letra:  a\n",
            "Letra:  r\n",
            "Letra:  a\n",
            "Letra:   \n",
            "Letra:  C\n",
            "Letra:  a\n",
            "Letra:  m\n",
            "Letra:  p\n",
            "Letra:  o\n",
            "Letra:  s\n"
          ],
          "name": "stdout"
        }
      ]
    },
    {
      "cell_type": "markdown",
      "metadata": {
        "id": "mfg2HCUzsirn"
      },
      "source": [
        "## Como saber o tamanho da lista? Use o Len"
      ]
    },
    {
      "cell_type": "code",
      "metadata": {
        "colab": {
          "base_uri": "https://localhost:8080/"
        },
        "id": "rbv33VstspDq",
        "outputId": "75ea3450-d68f-4ff5-aded-d5b1859c4b7b"
      },
      "source": [
        "len(zombies)"
      ],
      "execution_count": 39,
      "outputs": [
        {
          "output_type": "execute_result",
          "data": {
            "text/plain": [
              "4"
            ]
          },
          "metadata": {
            "tags": []
          },
          "execution_count": 39
        }
      ]
    },
    {
      "cell_type": "markdown",
      "metadata": {
        "id": "-eSEkC2oszG6"
      },
      "source": [
        "## Como remover um item da lista"
      ]
    },
    {
      "cell_type": "code",
      "metadata": {
        "colab": {
          "base_uri": "https://localhost:8080/"
        },
        "id": "9yQv69Zks28j",
        "outputId": "fae35592-5df2-4d7c-9f39-8eb6fe34f545"
      },
      "source": [
        "len(zombies)\r\n",
        "zombies[:3]"
      ],
      "execution_count": 40,
      "outputs": [
        {
          "output_type": "execute_result",
          "data": {
            "text/plain": [
              "['z1', 'z2', 'z3']"
            ]
          },
          "metadata": {
            "tags": []
          },
          "execution_count": 40
        }
      ]
    },
    {
      "cell_type": "code",
      "metadata": {
        "colab": {
          "base_uri": "https://localhost:8080/"
        },
        "id": "sHi5pNYKvAfi",
        "outputId": "dd7b700a-db10-4a2f-a6f5-3cb7bb47915f"
      },
      "source": [
        "print(zombies)\r\n",
        "del zombies[2] # esta linha remove o elemento\r\n",
        "print(zombies)"
      ],
      "execution_count": 45,
      "outputs": [
        {
          "output_type": "stream",
          "text": [
            "['z1', 'z2', 'z3', 'z4']\n",
            "['z1', 'z2', 'z4']\n"
          ],
          "name": "stdout"
        }
      ]
    },
    {
      "cell_type": "markdown",
      "metadata": {
        "id": "MYoXRe0Auddr"
      },
      "source": [
        "## inverter a ordem"
      ]
    },
    {
      "cell_type": "code",
      "metadata": {
        "colab": {
          "base_uri": "https://localhost:8080/",
          "height": 35
        },
        "id": "tXRac-tAt0B6",
        "outputId": "2c6c44d0-426e-4aa3-ad18-7d3a29afc829"
      },
      "source": [
        "nome[::-1]"
      ],
      "execution_count": 44,
      "outputs": [
        {
          "output_type": "execute_result",
          "data": {
            "application/vnd.google.colaboratory.intrinsic+json": {
              "type": "string"
            },
            "text/plain": [
              "'sopmaC araidnA'"
            ]
          },
          "metadata": {
            "tags": []
          },
          "execution_count": 44
        }
      ]
    },
    {
      "cell_type": "markdown",
      "metadata": {
        "id": "xu7q1xS3vW7e"
      },
      "source": [
        "# TUPLA (é uma lista que não vai mudar representada entre ()"
      ]
    },
    {
      "cell_type": "code",
      "metadata": {
        "colab": {
          "base_uri": "https://localhost:8080/"
        },
        "id": "BQ8YzaF2vrDm",
        "outputId": "360b0697-cba4-4ed5-da8e-b9386d273f8e"
      },
      "source": [
        "numeros_em_tuplas = (1,2,3,4,5)\r\n",
        "print(numeros_em_tuplas)"
      ],
      "execution_count": 46,
      "outputs": [
        {
          "output_type": "stream",
          "text": [
            "(1, 2, 3, 4, 5)\n"
          ],
          "name": "stdout"
        }
      ]
    },
    {
      "cell_type": "markdown",
      "metadata": {
        "id": "WDNzaxDowEH3"
      },
      "source": [
        "# Ordenar lista de forma crescente e decrescente"
      ]
    },
    {
      "cell_type": "code",
      "metadata": {
        "colab": {
          "base_uri": "https://localhost:8080/"
        },
        "id": "oL7Zayp4wJo5",
        "outputId": "c15c6de1-31bc-40b4-a17f-79a1d7ecb534"
      },
      "source": [
        "lista1.sort(reverse=True)\r\n",
        "lista1"
      ],
      "execution_count": 53,
      "outputs": [
        {
          "output_type": "execute_result",
          "data": {
            "text/plain": [
              "[40, 30, 20, 10]"
            ]
          },
          "metadata": {
            "tags": []
          },
          "execution_count": 53
        }
      ]
    }
  ]
}